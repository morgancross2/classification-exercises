{
 "cells": [
  {
   "cell_type": "code",
   "execution_count": 2,
   "id": "ee2bfc12-9f4f-4b79-9026-648074e0865f",
   "metadata": {},
   "outputs": [],
   "source": [
    "import numpy as np\n",
    "import pandas as pd\n",
    "import matplotlib.pyplot as plt\n",
    "import seaborn as sns\n",
    "from pydataset import data\n",
    "import scipy.stats as stats\n",
    "from sklearn.metrics import confusion_matrix, classification_report"
   ]
  },
  {
   "cell_type": "markdown",
   "id": "eb5fd303-68d1-4939-b920-792df711c918",
   "metadata": {},
   "source": [
    "#### 1. Create a new file named model_evaluation.py or model_evaluation.ipynb for these exercises."
   ]
  },
  {
   "cell_type": "code",
   "execution_count": 3,
   "id": "2c01d6f9-29d8-4f7d-9447-9e08418385f4",
   "metadata": {},
   "outputs": [],
   "source": [
    "# Here we are."
   ]
  },
  {
   "cell_type": "markdown",
   "id": "e129c6dc-3706-4b47-ba3b-34a08b84fea5",
   "metadata": {},
   "source": [
    "#### 2. Given the following confusion matrix, evaluate (by hand) the model's performance.\n",
    "\n",
    "|               | pred dog   | pred cat   |\n",
    "|:------------  |-----------:|-----------:|\n",
    "| actual dog    |         46 |         7  |\n",
    "| actual cat    |         13 |         34 |"
   ]
  },
  {
   "cell_type": "code",
   "execution_count": 4,
   "id": "702a7f4b-c192-4a7f-8f25-3a6436469d29",
   "metadata": {},
   "outputs": [],
   "source": [
    "# accuracy when using an actual dog as the positive case:\n",
    "# TP = 46\n",
    "# TN = 34\n",
    "# FP = 13\n",
    "# FN = 7\n",
    "# Accuracy = (46+34)/all = 80/100 = 80% accurate"
   ]
  },
  {
   "cell_type": "markdown",
   "id": "3d0cd1f6-4eaa-46eb-a239-2c1d2f8a3b17",
   "metadata": {},
   "source": [
    "a. In the context of this problem, what is a false positive?"
   ]
  },
  {
   "cell_type": "code",
   "execution_count": 5,
   "id": "6ae2242c-173f-4e29-8987-e1c0780360b1",
   "metadata": {},
   "outputs": [],
   "source": [
    "# Predicting a dog when it was actually a cat"
   ]
  },
  {
   "cell_type": "markdown",
   "id": "e8527b5e-b613-4e46-9828-98ab5969506f",
   "metadata": {},
   "source": [
    "b. In the context of this problem, what is a false negative?"
   ]
  },
  {
   "cell_type": "code",
   "execution_count": 6,
   "id": "8fa06a5b-ef02-495d-8493-76a193d3639f",
   "metadata": {},
   "outputs": [],
   "source": [
    "# Predicting a cat when it was actually a dog"
   ]
  },
  {
   "cell_type": "markdown",
   "id": "110c089b-c209-4b9e-9a0c-1fc44c20764b",
   "metadata": {},
   "source": [
    "c. How would you describe this model?"
   ]
  },
  {
   "cell_type": "code",
   "execution_count": 7,
   "id": "3b7d6021-7344-4ef1-894c-67b25fb78e77",
   "metadata": {},
   "outputs": [],
   "source": [
    "#This model has 80% accuracy in testing for dogs. It beats the baseline of predicting the mode (dog) 100% of the time. "
   ]
  },
  {
   "cell_type": "markdown",
   "id": "c1d6658a-a5c7-4fd7-aac5-645ae7d3a953",
   "metadata": {},
   "source": [
    "#### 3. You are working as a datascientist working for Codeup Cody Creator (C3 for short), a rubber-duck manufacturing plant.\n",
    "\n",
    "Unfortunately, some of the rubber ducks that are produced will have defects. Your team has built several models that try to predict those defects, and the data from their predictions can be found here.\n",
    "\n",
    "Use the predictions dataset and pandas to help answer the following questions:"
   ]
  },
  {
   "cell_type": "code",
   "execution_count": 10,
   "id": "efd98639-2e35-4257-8222-374cc09e6516",
   "metadata": {},
   "outputs": [
    {
     "data": {
      "text/html": [
       "<div>\n",
       "<style scoped>\n",
       "    .dataframe tbody tr th:only-of-type {\n",
       "        vertical-align: middle;\n",
       "    }\n",
       "\n",
       "    .dataframe tbody tr th {\n",
       "        vertical-align: top;\n",
       "    }\n",
       "\n",
       "    .dataframe thead th {\n",
       "        text-align: right;\n",
       "    }\n",
       "</style>\n",
       "<table border=\"1\" class=\"dataframe\">\n",
       "  <thead>\n",
       "    <tr style=\"text-align: right;\">\n",
       "      <th></th>\n",
       "      <th>actual</th>\n",
       "      <th>model1</th>\n",
       "      <th>model2</th>\n",
       "      <th>model3</th>\n",
       "    </tr>\n",
       "  </thead>\n",
       "  <tbody>\n",
       "    <tr>\n",
       "      <th>0</th>\n",
       "      <td>No Defect</td>\n",
       "      <td>No Defect</td>\n",
       "      <td>Defect</td>\n",
       "      <td>No Defect</td>\n",
       "    </tr>\n",
       "    <tr>\n",
       "      <th>1</th>\n",
       "      <td>No Defect</td>\n",
       "      <td>No Defect</td>\n",
       "      <td>Defect</td>\n",
       "      <td>Defect</td>\n",
       "    </tr>\n",
       "    <tr>\n",
       "      <th>2</th>\n",
       "      <td>No Defect</td>\n",
       "      <td>No Defect</td>\n",
       "      <td>Defect</td>\n",
       "      <td>No Defect</td>\n",
       "    </tr>\n",
       "    <tr>\n",
       "      <th>3</th>\n",
       "      <td>No Defect</td>\n",
       "      <td>Defect</td>\n",
       "      <td>Defect</td>\n",
       "      <td>Defect</td>\n",
       "    </tr>\n",
       "    <tr>\n",
       "      <th>4</th>\n",
       "      <td>No Defect</td>\n",
       "      <td>No Defect</td>\n",
       "      <td>Defect</td>\n",
       "      <td>No Defect</td>\n",
       "    </tr>\n",
       "  </tbody>\n",
       "</table>\n",
       "</div>"
      ],
      "text/plain": [
       "      actual     model1  model2     model3\n",
       "0  No Defect  No Defect  Defect  No Defect\n",
       "1  No Defect  No Defect  Defect     Defect\n",
       "2  No Defect  No Defect  Defect  No Defect\n",
       "3  No Defect     Defect  Defect     Defect\n",
       "4  No Defect  No Defect  Defect  No Defect"
      ]
     },
     "execution_count": 10,
     "metadata": {},
     "output_type": "execute_result"
    }
   ],
   "source": [
    "ducks = pd.read_csv('c3.csv')\n",
    "ducks.head()"
   ]
  },
  {
   "cell_type": "markdown",
   "id": "2c7c4313-6665-453f-8af3-a3669cddc7ff",
   "metadata": {},
   "source": [
    "a. An internal team wants to investigate the cause of the manufacturing defects. They tell you that they want to identify as many of the ducks that have a defect as possible. Which evaluation metric would be appropriate here? Which model would be the best fit for this use case?"
   ]
  },
  {
   "cell_type": "code",
   "execution_count": 18,
   "id": "6078779e-935b-4d8c-8062-d6864f1df93f",
   "metadata": {},
   "outputs": [
    {
     "data": {
      "text/html": [
       "<div>\n",
       "<style scoped>\n",
       "    .dataframe tbody tr th:only-of-type {\n",
       "        vertical-align: middle;\n",
       "    }\n",
       "\n",
       "    .dataframe tbody tr th {\n",
       "        vertical-align: top;\n",
       "    }\n",
       "\n",
       "    .dataframe thead th {\n",
       "        text-align: right;\n",
       "    }\n",
       "</style>\n",
       "<table border=\"1\" class=\"dataframe\">\n",
       "  <thead>\n",
       "    <tr style=\"text-align: right;\">\n",
       "      <th></th>\n",
       "      <th>Defect</th>\n",
       "      <th>No Defect</th>\n",
       "      <th>accuracy</th>\n",
       "      <th>macro avg</th>\n",
       "      <th>weighted avg</th>\n",
       "    </tr>\n",
       "  </thead>\n",
       "  <tbody>\n",
       "    <tr>\n",
       "      <th>precision</th>\n",
       "      <td>0.800000</td>\n",
       "      <td>0.957895</td>\n",
       "      <td>0.95</td>\n",
       "      <td>0.878947</td>\n",
       "      <td>0.945263</td>\n",
       "    </tr>\n",
       "    <tr>\n",
       "      <th>recall</th>\n",
       "      <td>0.500000</td>\n",
       "      <td>0.989130</td>\n",
       "      <td>0.95</td>\n",
       "      <td>0.744565</td>\n",
       "      <td>0.950000</td>\n",
       "    </tr>\n",
       "    <tr>\n",
       "      <th>f1-score</th>\n",
       "      <td>0.615385</td>\n",
       "      <td>0.973262</td>\n",
       "      <td>0.95</td>\n",
       "      <td>0.794323</td>\n",
       "      <td>0.944632</td>\n",
       "    </tr>\n",
       "    <tr>\n",
       "      <th>support</th>\n",
       "      <td>16.000000</td>\n",
       "      <td>184.000000</td>\n",
       "      <td>0.95</td>\n",
       "      <td>200.000000</td>\n",
       "      <td>200.000000</td>\n",
       "    </tr>\n",
       "  </tbody>\n",
       "</table>\n",
       "</div>"
      ],
      "text/plain": [
       "              Defect   No Defect  accuracy   macro avg  weighted avg\n",
       "precision   0.800000    0.957895      0.95    0.878947      0.945263\n",
       "recall      0.500000    0.989130      0.95    0.744565      0.950000\n",
       "f1-score    0.615385    0.973262      0.95    0.794323      0.944632\n",
       "support    16.000000  184.000000      0.95  200.000000    200.000000"
      ]
     },
     "execution_count": 18,
     "metadata": {},
     "output_type": "execute_result"
    }
   ],
   "source": [
    "# Recall/Sensitivity/True Positive Rate would be best here because the cost of missing a positive prediction is high\n",
    "pd.DataFrame(classification_report(ducks.actual, ducks.model1, output_dict=True))"
   ]
  },
  {
   "cell_type": "code",
   "execution_count": 15,
   "id": "47c0dff8-912c-426d-b359-1e8bc180fadd",
   "metadata": {},
   "outputs": [],
   "source": [
    "# Model 1 recall for defects = 50%\n",
    "# Model 2 recall for defects = 56%\n",
    "# Model 3 recall for defects = 81%\n",
    "\n",
    "# Model 3 is the best fit for this use case."
   ]
  },
  {
   "cell_type": "markdown",
   "id": "4618f3b6-153b-40e4-b167-c9ea3d584582",
   "metadata": {},
   "source": [
    "b. Recently several stories in the local news have come out highlighting customers who received a rubber duck with a defect, and portraying C3 in a bad light. The PR team has decided to launch a program that gives customers with a defective duck a vacation to Hawaii. They need you to predict which ducks will have defects, but tell you the really don't want to accidentally give out a vacation package when the duck really doesn't have a defect. Which evaluation metric would be appropriate here? Which model would be the best fit for this use case?"
   ]
  },
  {
   "cell_type": "code",
   "execution_count": 20,
   "id": "ebd29471-2822-47c8-89a6-eb7068b10bc2",
   "metadata": {},
   "outputs": [],
   "source": [
    "# Precision/ Positive Predictive Value would be best here because the cost of a positive prediction is high\n",
    "# Model 1 precision for defects = 80%\n",
    "# Model 2 precision for defects = 10%\n",
    "# Model 3 precision for defects = 13%\n",
    "\n",
    "# Model 1 is the best fit for this use case."
   ]
  },
  {
   "cell_type": "markdown",
   "id": "28df072c-913d-4155-accb-28d8a97679b0",
   "metadata": {},
   "source": [
    "#### 4. You are working as a data scientist for Gives You Paws ™, a subscription based service that shows you cute pictures of dogs or cats (or both for an additional fee)."
   ]
  },
  {
   "cell_type": "markdown",
   "id": "aae069b7-39bd-4fef-8efc-483e811261cf",
   "metadata": {},
   "source": [
    "At Gives You Paws, anyone can upload pictures of their cats or dogs. The photos are then put through a two step process. First an automated algorithm tags pictures as either a cat or a dog (Phase I). Next, the photos that have been initially identified are put through another round of review, possibly with some human oversight, before being presented to the users (Phase II).\n",
    "\n",
    "Several models have already been developed with the data, and you can find their results here.\n",
    "\n",
    "Given this dataset, use pandas to create a baseline model (i.e. a model that just predicts the most common class) and answer the following questions:"
   ]
  },
  {
   "cell_type": "code",
   "execution_count": 9,
   "id": "267f7b42-0f38-4565-9fcb-0517fcecc30d",
   "metadata": {},
   "outputs": [
    {
     "data": {
      "text/html": [
       "<div>\n",
       "<style scoped>\n",
       "    .dataframe tbody tr th:only-of-type {\n",
       "        vertical-align: middle;\n",
       "    }\n",
       "\n",
       "    .dataframe tbody tr th {\n",
       "        vertical-align: top;\n",
       "    }\n",
       "\n",
       "    .dataframe thead th {\n",
       "        text-align: right;\n",
       "    }\n",
       "</style>\n",
       "<table border=\"1\" class=\"dataframe\">\n",
       "  <thead>\n",
       "    <tr style=\"text-align: right;\">\n",
       "      <th></th>\n",
       "      <th>actual</th>\n",
       "      <th>model1</th>\n",
       "      <th>model2</th>\n",
       "      <th>model3</th>\n",
       "      <th>model4</th>\n",
       "    </tr>\n",
       "  </thead>\n",
       "  <tbody>\n",
       "    <tr>\n",
       "      <th>0</th>\n",
       "      <td>cat</td>\n",
       "      <td>cat</td>\n",
       "      <td>dog</td>\n",
       "      <td>cat</td>\n",
       "      <td>dog</td>\n",
       "    </tr>\n",
       "    <tr>\n",
       "      <th>1</th>\n",
       "      <td>dog</td>\n",
       "      <td>dog</td>\n",
       "      <td>cat</td>\n",
       "      <td>cat</td>\n",
       "      <td>dog</td>\n",
       "    </tr>\n",
       "    <tr>\n",
       "      <th>2</th>\n",
       "      <td>dog</td>\n",
       "      <td>cat</td>\n",
       "      <td>cat</td>\n",
       "      <td>cat</td>\n",
       "      <td>dog</td>\n",
       "    </tr>\n",
       "    <tr>\n",
       "      <th>3</th>\n",
       "      <td>dog</td>\n",
       "      <td>dog</td>\n",
       "      <td>dog</td>\n",
       "      <td>cat</td>\n",
       "      <td>dog</td>\n",
       "    </tr>\n",
       "    <tr>\n",
       "      <th>4</th>\n",
       "      <td>cat</td>\n",
       "      <td>cat</td>\n",
       "      <td>cat</td>\n",
       "      <td>dog</td>\n",
       "      <td>dog</td>\n",
       "    </tr>\n",
       "  </tbody>\n",
       "</table>\n",
       "</div>"
      ],
      "text/plain": [
       "  actual model1 model2 model3 model4\n",
       "0    cat    cat    dog    cat    dog\n",
       "1    dog    dog    cat    cat    dog\n",
       "2    dog    cat    cat    cat    dog\n",
       "3    dog    dog    dog    cat    dog\n",
       "4    cat    cat    cat    dog    dog"
      ]
     },
     "execution_count": 9,
     "metadata": {},
     "output_type": "execute_result"
    }
   ],
   "source": [
    "df = pd.read_csv('gives_you_paws.csv')\n",
    "df.head()"
   ]
  },
  {
   "cell_type": "markdown",
   "id": "58d3cae0-5142-4ecf-af19-01baa4017278",
   "metadata": {},
   "source": [
    "a. In terms of accuracy, how do the various models compare to the baseline model? Are any of the models better than the baseline?"
   ]
  },
  {
   "cell_type": "code",
   "execution_count": null,
   "id": "6d3c06f2-85d5-4b03-981d-23b467336740",
   "metadata": {},
   "outputs": [],
   "source": []
  },
  {
   "cell_type": "markdown",
   "id": "3d06626f-756c-4ec6-9759-9a36e7cd8d93",
   "metadata": {},
   "source": [
    "b. Suppose you are working on a team that solely deals with dog pictures. Which of these models would you recomend for Phase I? For Phase II?"
   ]
  },
  {
   "cell_type": "code",
   "execution_count": null,
   "id": "fd9f8556-c983-48e3-8a0f-b2880516c31c",
   "metadata": {},
   "outputs": [],
   "source": []
  },
  {
   "cell_type": "markdown",
   "id": "4176d342-9ef9-4b5f-add5-06ef7254a408",
   "metadata": {},
   "source": [
    "c. Suppose you are working on a team that solely deals with cat pictures. Which of these models would you recomend for Phase I? For Phase II?"
   ]
  },
  {
   "cell_type": "code",
   "execution_count": null,
   "id": "976eab61-1023-4f56-830e-1c8d895177c8",
   "metadata": {},
   "outputs": [],
   "source": []
  },
  {
   "cell_type": "markdown",
   "id": "e919bb39-2ef6-4d22-9c0a-1a3a4d298320",
   "metadata": {},
   "source": [
    "#### 5. Follow the links below to read the documentation about each function, then apply those functions to the data from the previous problem."
   ]
  },
  {
   "cell_type": "code",
   "execution_count": null,
   "id": "233e067c-87ee-485a-96db-2e01a7fbd582",
   "metadata": {},
   "outputs": [],
   "source": []
  },
  {
   "cell_type": "markdown",
   "id": "6fac579c-c547-4146-b8e9-dc9a91f64e21",
   "metadata": {},
   "source": [
    "a. sklearn.metrics.accuracy_score"
   ]
  },
  {
   "cell_type": "code",
   "execution_count": null,
   "id": "6d0c15cc-71a0-4af5-a520-a68d178734bc",
   "metadata": {},
   "outputs": [],
   "source": []
  },
  {
   "cell_type": "markdown",
   "id": "28e4d615-7469-480c-9d56-4023caea1fce",
   "metadata": {},
   "source": [
    "b. sklearn.metrics.precision_score"
   ]
  },
  {
   "cell_type": "code",
   "execution_count": null,
   "id": "4cf205b6-900a-4ff8-a665-76a405698124",
   "metadata": {},
   "outputs": [],
   "source": []
  },
  {
   "cell_type": "markdown",
   "id": "b6bb0b75-3cd2-451c-95df-a0c5a7230279",
   "metadata": {},
   "source": [
    "c. sklearn.metrics.recall_score"
   ]
  },
  {
   "cell_type": "code",
   "execution_count": null,
   "id": "5532ee86-7a70-4aa8-911e-b34e2b9728cd",
   "metadata": {},
   "outputs": [],
   "source": []
  },
  {
   "cell_type": "markdown",
   "id": "7169e668-8ed7-4e8b-8103-ec2d696c8eb2",
   "metadata": {},
   "source": [
    "d. sklearn.metrics.classification_report"
   ]
  },
  {
   "cell_type": "code",
   "execution_count": null,
   "id": "82f8662d-ca59-41a8-9871-d2a21a317562",
   "metadata": {},
   "outputs": [],
   "source": []
  },
  {
   "cell_type": "code",
   "execution_count": null,
   "id": "aba541f9-81b3-47ab-89ec-955560b523f6",
   "metadata": {},
   "outputs": [],
   "source": []
  },
  {
   "cell_type": "code",
   "execution_count": null,
   "id": "6c5c1147-29a9-429a-9e87-ad465b476cc9",
   "metadata": {},
   "outputs": [],
   "source": []
  }
 ],
 "metadata": {
  "kernelspec": {
   "display_name": "Python 3 (ipykernel)",
   "language": "python",
   "name": "python3"
  },
  "language_info": {
   "codemirror_mode": {
    "name": "ipython",
    "version": 3
   },
   "file_extension": ".py",
   "mimetype": "text/x-python",
   "name": "python",
   "nbconvert_exporter": "python",
   "pygments_lexer": "ipython3",
   "version": "3.9.12"
  }
 },
 "nbformat": 4,
 "nbformat_minor": 5
}
